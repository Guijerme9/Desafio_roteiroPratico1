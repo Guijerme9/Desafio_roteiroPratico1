{
  "cells": [
    {
      "cell_type": "markdown",
      "metadata": {
        "id": "view-in-github",
        "colab_type": "text"
      },
      "source": [
        "<a href=\"https://colab.research.google.com/github/Guijerme9/Desafio_roteiroPratico1/blob/main/Desafio_RoteiroPratico1.ipynb\" target=\"_parent\"><img src=\"https://colab.research.google.com/assets/colab-badge.svg\" alt=\"Open In Colab\"/></a>"
      ]
    },
    {
      "cell_type": "code",
      "execution_count": null,
      "id": "03d9280d",
      "metadata": {
        "id": "03d9280d"
      },
      "outputs": [],
      "source": [
        "\n",
        "# Desafio - Roteiro Prático 1\n",
        "\n",
        "# Parte 1: Apresentação com variáveis\n",
        "nome = \"Guilherme\"\n",
        "idade = 21\n",
        "curso = \"Engenharia de Software\"\n",
        "print(f\"Meu nome é {nome}, tenho {idade} anos e estudo {curso}.\")\n",
        "\n",
        "# Parte 2: Média de uma lista\n",
        "notas = [8.0, 7.5, 9.0, 6.5]\n",
        "media = sum(notas) / len(notas)\n",
        "print(\"Média das notas:\", media)\n",
        "\n",
        "# Parte 3: Comparando gastos de João e Pedro\n",
        "joao = [100, 200, 150, 300]\n",
        "pedro = [120, 180, 130, 250]\n",
        "\n",
        "total_joao = sum(joao)\n",
        "total_pedro = sum(pedro)\n",
        "\n",
        "if total_joao > total_pedro:\n",
        "    print(\"João gastou mais.\")\n",
        "elif total_joao < total_pedro:\n",
        "    print(\"Pedro gastou mais.\")\n",
        "else:\n",
        "    print(\"João e Pedro gastaram o mesmo valor.\")\n"
      ]
    }
  ],
  "metadata": {
    "colab": {
      "provenance": [],
      "include_colab_link": true
    }
  },
  "nbformat": 4,
  "nbformat_minor": 5
}